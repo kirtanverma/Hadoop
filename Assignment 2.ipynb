{
 "cells": [
  {
   "cell_type": "code",
   "execution_count": 2,
   "metadata": {},
   "outputs": [],
   "source": [
    "import sqlalchemy as db\n",
    "from sqlalchemy import create_engine\n",
    "import pandas as pd"
   ]
  },
  {
   "cell_type": "code",
   "execution_count": 8,
   "metadata": {},
   "outputs": [],
   "source": [
    "SortData = pd.read_csv(\"C:/Users/Kirtan verma/Desktop/SortTestData1.csv\")"
   ]
  },
  {
   "cell_type": "code",
   "execution_count": 9,
   "metadata": {},
   "outputs": [],
   "source": [
    "engine = db.create_engine(\"sqlite:///:memory:\")"
   ]
  },
  {
   "cell_type": "code",
   "execution_count": 10,
   "metadata": {},
   "outputs": [],
   "source": [
    "engine = create_engine('sqlite:///:memory:')\n",
    "SortData.to_sql(\"data_table\", engine)"
   ]
  },
  {
   "cell_type": "code",
   "execution_count": 14,
   "metadata": {},
   "outputs": [
    {
     "name": "stdout",
     "output_type": "stream",
     "text": [
      "                         Region Sales_Channel  SUM(Total_Profit)\n",
      "0                          Asia        Online             403845\n",
      "1         Australia and Oceania       Offline             769722\n",
      "2         Australia and Oceania        Online               5825\n",
      "3                        Europe        Online             521530\n",
      "4  Middle East and North Africa       Offline             422938\n",
      "5            Sub-Saharan Africa       Offline              48201\n",
      "6            Sub-Saharan Africa        Online             147688\n"
     ]
    }
   ],
   "source": [
    "# Query 1: Run query with 2 Group by clauses, 1 nested select and 1 sum operation\n",
    "\n",
    "Query1 = pd.read_sql_query(\"SELECT Region, Sales_Channel, SUM(Total_Profit) FROM (SELECT * FROM data_table WHERE Order_Priority = \\\"H\\\") GROUP BY Region, Sales_Channel\", engine)\n",
    "print(Query1)"
   ]
  },
  {
   "cell_type": "code",
   "execution_count": 19,
   "metadata": {},
   "outputs": [
    {
     "name": "stdout",
     "output_type": "stream",
     "text": [
      "                              Region Sales_Channel  AVG(Total_Revenue)\n",
      "0                               Asia        Online        1.548772e+06\n",
      "1              Australia and Oceania        Online        6.901638e+05\n",
      "2  Central America and the Caribbean        Online        7.958146e+05\n",
      "3                             Europe       Offline        1.382949e+06\n",
      "4       Middle East and North Africa        Online        1.509750e+06\n",
      "5                 Sub-Saharan Africa        Online        9.010290e+05\n"
     ]
    }
   ],
   "source": [
    "# Query 2: Run query with 2 sort clauses, 1 grouping and 1 average operation\n",
    "\n",
    "Query2 = pd.read_sql_query(\"SELECT Region, Sales_Channel, AVG(Total_Revenue) FROM (SELECT * FROM data_table) GROUP BY Region ORDER BY Region, Total_Cost\", engine)\n",
    "print(Query2)"
   ]
  }
 ],
 "metadata": {
  "kernelspec": {
   "display_name": "Python 3",
   "language": "python",
   "name": "python3"
  },
  "language_info": {
   "codemirror_mode": {
    "name": "ipython",
    "version": 3
   },
   "file_extension": ".py",
   "mimetype": "text/x-python",
   "name": "python",
   "nbconvert_exporter": "python",
   "pygments_lexer": "ipython3",
   "version": "3.6.5"
  }
 },
 "nbformat": 4,
 "nbformat_minor": 2
}
